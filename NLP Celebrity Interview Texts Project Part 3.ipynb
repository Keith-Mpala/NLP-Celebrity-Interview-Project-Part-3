{
 "cells": [
  {
   "cell_type": "markdown",
   "id": "69fc4898",
   "metadata": {},
   "source": [
    "# Natural Language Process - Celebrity Interviews Project Part 3"
   ]
  },
  {
   "cell_type": "markdown",
   "id": "c547d79d",
   "metadata": {},
   "source": [
    "Part 3 of this project, we make use of rule based approach TFIDFVectorizer() to determine the number of clusters from the corpus. We use two clustering algorithms **1. MiniBatchKMeans and 2. K-Means++** and compare simlarity of clusters. These clusters are basically the documents that coalesce to having the greatest degree of similarity.\n",
    "\n",
    "\n",
    "**The project Objectives for Part 3 of this project :**\n",
    "\n",
    "**1. Cluster Analysis of Text**\n",
    "- Derive meaning of clusters and Output most frequent terms per cluster\n",
    "\n",
    "i) MiniBatchKMeans\n",
    "- This algorithm basically works by updating cluster centroids based on a random subset (or \"batch\") of the data, instead of the entire dataset. Ideal for large datasets. \n",
    "\n",
    "ii) K-Means++\n",
    "- This algorithm is an improved version of KMeans. It chooses the initial centroids such that they are well-spread across the data. The first centroid is chosen randomly, and then subsequent centroids are chosen such that they are as far away as possible from the already selected centroids.\n"
   ]
  },
  {
   "cell_type": "markdown",
   "id": "2e8095ea",
   "metadata": {},
   "source": [
    "### Libraries"
   ]
  },
  {
   "cell_type": "code",
   "execution_count": 1,
   "id": "f2868d14",
   "metadata": {},
   "outputs": [],
   "source": [
    "import math\n",
    "import warnings\n",
    "import pandas as pd\n",
    "import numpy as np\n",
    "import matplotlib.pyplot as plt\n",
    "import matplotlib.cm as cm"
   ]
  },
  {
   "cell_type": "code",
   "execution_count": 2,
   "id": "80292799",
   "metadata": {},
   "outputs": [],
   "source": [
    "from sklearn.feature_extraction import text\n",
    "from sklearn.feature_extraction.text import TfidfVectorizer"
   ]
  },
  {
   "cell_type": "code",
   "execution_count": 3,
   "id": "ae7faffa",
   "metadata": {},
   "outputs": [],
   "source": [
    "from sklearn.manifold import TSNE\n",
    "from sklearn.cluster import KMeans\n",
    "from sklearn.decomposition import PCA\n",
    "from sklearn.cluster import MiniBatchKMeans"
   ]
  },
  {
   "cell_type": "code",
   "execution_count": 4,
   "id": "3d5e2e5f",
   "metadata": {},
   "outputs": [],
   "source": [
    "# import dataset tokenised_data\n",
    "import pickle \n",
    "with open(\"outputs/tokenised_data.pkl\", \"rb\") as fp:\n",
    "    Interview_data = pickle.load(fp)"
   ]
  },
  {
   "cell_type": "code",
   "execution_count": 5,
   "id": "550c8175",
   "metadata": {},
   "outputs": [
    {
     "data": {
      "text/html": [
       "<div>\n",
       "<style scoped>\n",
       "    .dataframe tbody tr th:only-of-type {\n",
       "        vertical-align: middle;\n",
       "    }\n",
       "\n",
       "    .dataframe tbody tr th {\n",
       "        vertical-align: top;\n",
       "    }\n",
       "\n",
       "    .dataframe thead th {\n",
       "        text-align: right;\n",
       "    }\n",
       "</style>\n",
       "<table border=\"1\" class=\"dataframe\">\n",
       "  <thead>\n",
       "    <tr style=\"text-align: right;\">\n",
       "      <th></th>\n",
       "      <th>Name</th>\n",
       "      <th>Profession</th>\n",
       "      <th>Origional Text</th>\n",
       "      <th>Tokenised Text</th>\n",
       "      <th>Preprocessed Text</th>\n",
       "    </tr>\n",
       "  </thead>\n",
       "  <tbody>\n",
       "    <tr>\n",
       "      <th>0</th>\n",
       "      <td>Alvaro Morata</td>\n",
       "      <td>Footballer</td>\n",
       "      <td>in spain all the children played football esp...</td>\n",
       "      <td>[spain, children, played, football, especially...</td>\n",
       "      <td>spain children played football especially scho...</td>\n",
       "    </tr>\n",
       "    <tr>\n",
       "      <th>1</th>\n",
       "      <td>Anna Petryk</td>\n",
       "      <td>Footballer</td>\n",
       "      <td>didnt want to change my team but the situati...</td>\n",
       "      <td>[want, change, team, situation, made, russia, ...</td>\n",
       "      <td>want change team situation made russia invaded...</td>\n",
       "    </tr>\n",
       "    <tr>\n",
       "      <th>2</th>\n",
       "      <td>Ben Chilwell</td>\n",
       "      <td>Footballer</td>\n",
       "      <td>must admit when  walked into the store  was ...</td>\n",
       "      <td>[must, admit, walked, store, little, nervous, ...</td>\n",
       "      <td>must admit walked store little nervous many pe...</td>\n",
       "    </tr>\n",
       "    <tr>\n",
       "      <th>3</th>\n",
       "      <td>Bruno Fernandes</td>\n",
       "      <td>Footballer</td>\n",
       "      <td>you could feel it between us between the fans...</td>\n",
       "      <td>[could, feel, fans, atmosphere, like, getting,...</td>\n",
       "      <td>could feel fans atmosphere like getting back p...</td>\n",
       "    </tr>\n",
       "    <tr>\n",
       "      <th>4</th>\n",
       "      <td>Cesar Azpilicueta</td>\n",
       "      <td>Footballer</td>\n",
       "      <td>when  arrived here  wanted to become an impor...</td>\n",
       "      <td>[arrived, wanted, become, important, player, c...</td>\n",
       "      <td>arrived wanted become important player club ob...</td>\n",
       "    </tr>\n",
       "  </tbody>\n",
       "</table>\n",
       "</div>"
      ],
      "text/plain": [
       "                Name  Profession  \\\n",
       "0      Alvaro Morata  Footballer   \n",
       "1        Anna Petryk  Footballer   \n",
       "2       Ben Chilwell  Footballer   \n",
       "3    Bruno Fernandes  Footballer   \n",
       "4  Cesar Azpilicueta  Footballer   \n",
       "\n",
       "                                      Origional Text  \\\n",
       "0   in spain all the children played football esp...   \n",
       "1    didnt want to change my team but the situati...   \n",
       "2    must admit when  walked into the store  was ...   \n",
       "3   you could feel it between us between the fans...   \n",
       "4   when  arrived here  wanted to become an impor...   \n",
       "\n",
       "                                      Tokenised Text  \\\n",
       "0  [spain, children, played, football, especially...   \n",
       "1  [want, change, team, situation, made, russia, ...   \n",
       "2  [must, admit, walked, store, little, nervous, ...   \n",
       "3  [could, feel, fans, atmosphere, like, getting,...   \n",
       "4  [arrived, wanted, become, important, player, c...   \n",
       "\n",
       "                                   Preprocessed Text  \n",
       "0  spain children played football especially scho...  \n",
       "1  want change team situation made russia invaded...  \n",
       "2  must admit walked store little nervous many pe...  \n",
       "3  could feel fans atmosphere like getting back p...  \n",
       "4  arrived wanted become important player club ob...  "
      ]
     },
     "execution_count": 5,
     "metadata": {},
     "output_type": "execute_result"
    }
   ],
   "source": [
    "# Review dataset\n",
    "Interview_data.head()"
   ]
  },
  {
   "cell_type": "code",
   "execution_count": 6,
   "id": "8990e36c",
   "metadata": {},
   "outputs": [],
   "source": [
    "add_stop_words = ['like','think','people','one','time','know','really','always','lot','get']\n",
    "\n",
    "# Adding to stop words list\n",
    "# these stopwords will be included as a parameter when creating TFIDFVectorizer\n",
    "from sklearn.feature_extraction import text\n",
    "\n",
    "stop_words = text.ENGLISH_STOP_WORDS.union(add_stop_words)"
   ]
  },
  {
   "cell_type": "markdown",
   "id": "05cf6079",
   "metadata": {},
   "source": [
    "## TfidfVectorizer() model"
   ]
  },
  {
   "cell_type": "code",
   "execution_count": 7,
   "id": "6c1f14b3",
   "metadata": {},
   "outputs": [],
   "source": [
    "# Tf idf\n",
    "tfidf_vectorizer = TfidfVectorizer(\n",
    "    min_df = 5,\n",
    "    max_df = 0.85,\n",
    "    max_features = 8000,\n",
    "    stop_words = stop_words\n",
    ")\n",
    "\n",
    "tfidf_vectorizer.fit(Interview_data['Preprocessed Text'])\n",
    "text = tfidf_vectorizer.transform(Interview_data['Preprocessed Text'])\n",
    "\n",
    "vectorized_text = tfidf_vectorizer.fit_transform(Interview_data['Preprocessed Text'])"
   ]
  },
  {
   "cell_type": "markdown",
   "id": "997c7ad6",
   "metadata": {},
   "source": [
    "# 1. Clustering using MiniBatchKMeans"
   ]
  },
  {
   "cell_type": "markdown",
   "id": "50aedd26",
   "metadata": {},
   "source": [
    "### Optimal number of Clusters"
   ]
  },
  {
   "cell_type": "code",
   "execution_count": 8,
   "id": "9f245c4c",
   "metadata": {},
   "outputs": [
    {
     "name": "stdout",
     "output_type": "stream",
     "text": [
      "Fit 2 clusters\n",
      "Fit 4 clusters\n",
      "Fit 6 clusters\n",
      "Fit 8 clusters\n",
      "Fit 10 clusters\n",
      "Fit 12 clusters\n",
      "Fit 14 clusters\n",
      "Fit 16 clusters\n",
      "Fit 18 clusters\n",
      "Fit 20 clusters\n"
     ]
    },
    {
     "data": {
      "image/png": "[encoded data removed]",
      "text/plain": [
       "<Figure size 864x432 with 1 Axes>"
      ]
     },
     "metadata": {
      "needs_background": "light"
     },
     "output_type": "display_data"
    }
   ],
   "source": [
    "# look for optimal no of clusters\n",
    "plt.rcParams['figure.figsize'] = [12,6]\n",
    "def find_optimal_clusters(data, max_k):\n",
    "    iters = range(2, max_k+1, 2)\n",
    "    \n",
    "    sse = []\n",
    "    for k in iters:\n",
    "        sse.append(MiniBatchKMeans(n_clusters=k, init_size=40, batch_size=10, random_state=7000).fit(data).inertia_)\n",
    "        print('Fit {} clusters'.format(k))\n",
    "        \n",
    "    f, ax = plt.subplots(1, 1)\n",
    "    ax.plot(iters, sse, marker='o')\n",
    "    ax.set_xlabel('Cluster Centers')\n",
    "    ax.set_xticks(iters)\n",
    "    ax.set_xticklabels(iters)\n",
    "    ax.set_ylabel('SSE')\n",
    "    ax.set_title('SSE by Cluster Center Plot')\n",
    "    \n",
    "find_optimal_clusters(text, 20)"
   ]
  },
  {
   "cell_type": "markdown",
   "id": "6cf4268e",
   "metadata": {},
   "source": [
    "## Top Terms per Cluster using MiniBatchKMeans"
   ]
  },
  {
   "cell_type": "code",
   "execution_count": 9,
   "id": "18f415f0",
   "metadata": {},
   "outputs": [
    {
     "name": "stdout",
     "output_type": "stream",
     "text": [
      "\n",
      "Cluster 1\n",
      "story,women,got,right,fun,life,things,feel,characters,character,film,love,kind,movie,going\n",
      "\n",
      "Cluster 2\n",
      "fans,player,important,playing,life,games,says,day,league,game,play,club,team,players,football\n",
      "\n",
      "Cluster 3\n",
      "art,meaning,writing,self,new,learning,happy,anxiety,happiness,realized,thought,laugh,purpose,thinking,life\n",
      "\n",
      "Cluster 4\n",
      "national,need,final,premier,life,happy,goal,game,madrid,real,play,team,country,league,football\n",
      "\n",
      "Cluster 5\n",
      "product,feel,passed,anxiety,help,let,live,producers,hard,wanted,impact,wife,believe,inspire,god\n",
      "\n",
      "Cluster 6\n",
      "writing,kids,kind,laugh,say,mean,tour,yeah,feel,album,life,going,love,song,music\n"
     ]
    },
    {
     "name": "stderr",
     "output_type": "stream",
     "text": [
      "C:\\users\\hp\\appdata\\local\\programs\\python\\python39\\lib\\site-packages\\sklearn\\utils\\deprecation.py:87: FutureWarning: Function get_feature_names is deprecated; get_feature_names is deprecated in 1.0 and will be removed in 1.2. Please use get_feature_names_out instead.\n",
      "  warnings.warn(msg, category=FutureWarning)\n"
     ]
    }
   ],
   "source": [
    "# top keywords based on their TFIDF score to see if we can spot any trends\n",
    "# set k to 6\n",
    "clusters = MiniBatchKMeans(n_clusters=6, init_size=1024, batch_size=2048, random_state=20).fit_predict(text)\n",
    "\n",
    "def get_top_keywords(data, clusters, labels, n_terms):\n",
    "    df = pd.DataFrame(data.todense()).groupby(clusters).mean()\n",
    "    \n",
    "    for i,r in df.iterrows():\n",
    "        print('\\nCluster {}'.format(i+1))\n",
    "        print(','.join([labels[t] for t in np.argsort(r)[-n_terms:]]))\n",
    "            \n",
    "get_top_keywords(text, clusters, tfidf_vectorizer.get_feature_names(), 15)"
   ]
  },
  {
   "cell_type": "markdown",
   "id": "31a518d0",
   "metadata": {},
   "source": [
    "# 2. Clustering using K-means++"
   ]
  },
  {
   "cell_type": "markdown",
   "id": "dec4c070",
   "metadata": {},
   "source": [
    "### Optimal number of Clusters "
   ]
  },
  {
   "cell_type": "code",
   "execution_count": 10,
   "id": "39455115",
   "metadata": {},
   "outputs": [
    {
     "name": "stdout",
     "output_type": "stream",
     "text": [
      "Fit 2 clusters\n",
      "Fit 3 clusters\n",
      "Fit 4 clusters\n",
      "Fit 5 clusters\n",
      "Fit 6 clusters\n",
      "Fit 7 clusters\n",
      "Fit 8 clusters\n"
     ]
    },
    {
     "data": {
      "image/png": "[encoded data removed]",
      "text/plain": [
       "<Figure size 864x432 with 1 Axes>"
      ]
     },
     "metadata": {
      "needs_background": "light"
     },
     "output_type": "display_data"
    }
   ],
   "source": [
    "# look for optimal no of clusters\n",
    "def find_optimal_clusters(data, max_k):\n",
    "    iters = range(2, max_k+1, 1)\n",
    "    \n",
    "    sse = []\n",
    "    for k in iters:\n",
    "        sse.append(KMeans(n_clusters=k,random_state=7000).fit(data).inertia_)\n",
    "        print('Fit {} clusters'.format(k))\n",
    "        \n",
    "    f, ax = plt.subplots(1, 1)\n",
    "    ax.plot(iters, sse, marker='o')\n",
    "    ax.set_xlabel('Cluster Centers')\n",
    "    ax.set_xticks(iters)\n",
    "    ax.set_xticklabels(iters)\n",
    "    ax.set_ylabel('SSE')\n",
    "    ax.set_title('SSE by Cluster Center Plot')\n",
    "    \n",
    "find_optimal_clusters(text, 8)"
   ]
  },
  {
   "cell_type": "markdown",
   "id": "42f17051",
   "metadata": {},
   "source": [
    "## Top Terms per Cluster using K-Means++"
   ]
  },
  {
   "cell_type": "code",
   "execution_count": 11,
   "id": "ff70bd99",
   "metadata": {},
   "outputs": [
    {
     "name": "stdout",
     "output_type": "stream",
     "text": [
      "Cluster 1\n",
      "god, inspire, believe, wife, impact, wanted, hard, producers, live, let, help, anxiety, passed, feel, product\n",
      "Cluster 2\n",
      "movie, going, film, kind, character, characters, movies, story, women, feel, love, got, life, great, laughs\n",
      "Cluster 3\n",
      "going, things, mind, point, human, mental, feel, bad, trying, got, health, questions, probably, love, dad\n",
      "Cluster 4\n",
      "football, team, league, play, country, game, players, real, madrid, happy, goal, life, barcelona, national, great\n",
      "Cluster 5\n",
      "love, music, life, album, feel, things, going, laugh, self, kind, kids, right, house, thing, say\n",
      "Cluster 6\n",
      "football, players, club, team, play, game, league, says, games, life, fans, day, different, playing, world\n"
     ]
    }
   ],
   "source": [
    "# top keywords based on their TFIDF score to see if we can spot any trends using kmeans++\n",
    "\n",
    "def get_top_keywords(data, true_k ,labels, n_terms):\n",
    "    \n",
    "    model = KMeans(n_clusters = true_k, init=\"k-means++\", max_iter=100, n_init=1,random_state=20)\n",
    "    model = model.fit(text)\n",
    "\n",
    "    order_centroids = model.cluster_centers_.argsort()[:, ::-1]\n",
    "    for i in range(true_k):\n",
    "        print(f\"Cluster {i+1}\") # printing each cluster number\n",
    "        print(', '.join([labels[ind] for ind in order_centroids[i, :n_terms]]))\n",
    "    \n",
    "\n",
    "get_top_keywords(text, 6, tfidf_vectorizer.get_feature_names(), 15)"
   ]
  },
  {
   "cell_type": "markdown",
   "id": "d2ac1b1f",
   "metadata": {},
   "source": [
    "## Analysis of Clusters\n",
    "\n",
    "Since our dataset is relatively small as excepted, both models produce similar results i.e., similarity of clusters was derived with optimal number of clusters being 6. \n",
    "\n",
    "- Cluster 1 - Football (Important games fans) \n",
    "- Cluster 2 - Music (album, song writing & tours)\n",
    "- Cluster 3 - Football (clubs,national team, players)\n",
    "- Cluster 4 - Movies (Film, movie story and characters, producers)\n",
    "- Cluster 5 - Depression (Anxiety for prodcuers and wife, help & believing in God)\n",
    "- Cluster 6 - Art, writing, mental health and human mind. happiness, purpose and meaning of life\n"
   ]
  },
  {
   "cell_type": "markdown",
   "id": "739224af",
   "metadata": {},
   "source": [
    "## Saving Clusters to a txt FILE"
   ]
  },
  {
   "cell_type": "code",
   "execution_count": 12,
   "id": "7b13aaf3",
   "metadata": {},
   "outputs": [],
   "source": [
    "# top keywords based on their TFIDF score to see if we can spot any trends using kmeans++\n",
    "# we initiate k = 6\n",
    "true_k = 6\n",
    "model = KMeans(n_clusters = true_k, init=\"k-means++\", max_iter=100, n_init=1,random_state=20)\n",
    "model.fit(text)\n",
    "\n",
    "order_centroids = model.cluster_centers_.argsort()[:, ::-1]\n",
    "terms = tfidf_vectorizer.get_feature_names()\n",
    "\n",
    "# write our clusters to .txt file\n",
    "with open(\"Kmeans Clusters.txt\", \"w\", encoding=\"utf-8\") as f:\n",
    "    f.write('RESULTS OF CLUSTERS using KMeans++ Clustering Algorithm')\n",
    "    f.write(\"\\n\\n\")\n",
    "   \n",
    "    for i in range(true_k):\n",
    "        f.write(f\"Cluster {i+1}\") # number of cluster iteration\n",
    "        f.write(\"\\n\")\n",
    "\n",
    "        for ind in order_centroids[i, :12]:\n",
    "            f.write(terms[ind]) # save top words as a cluster in a .txt file in directory\n",
    "            f.write(\"\\n\")\n",
    "        f.write(\"\\n\")"
   ]
  },
  {
   "cell_type": "code",
   "execution_count": 13,
   "id": "2342147b",
   "metadata": {},
   "outputs": [],
   "source": [
    "# top keywords based on their TFIDF score to see if we can spot any trends using kmeans++\n",
    "\n",
    "# set k to 6\n",
    "clusters = MiniBatchKMeans(n_clusters=6, init_size=1024, batch_size=2048, random_state=20).fit_predict(text)\n",
    "n_terms = 15\n",
    "labels = tfidf_vectorizer.get_feature_names()\n",
    "df = pd.DataFrame(text.todense()).groupby(clusters).mean()\n",
    "\n",
    "\n",
    "# write our clusters to .txt file\n",
    "with open(\"MiniBatchKMeans Clusters.txt\", \"w\", encoding=\"utf-8\") as f:\n",
    "    f.write('RESULTS OF CLUSTERS using MiniBatchKMeans Clustering Algorithm')\n",
    "    f.write(\"\\n\\n\")\n",
    "    \n",
    "    for i,r in df.iterrows():\n",
    "        f.write('\\nCluster {}'.format(i+1))\n",
    "        f.write(\"\\n\")\n",
    "        \n",
    "        for t in np.argsort(r)[-n_terms:]:\n",
    "            f.write(str(labels[t]))\n",
    "            f.write(\"\\n\")\n",
    "        f.write(\"\\n\")  "
   ]
  },
  {
   "cell_type": "markdown",
   "id": "1bf57a0e",
   "metadata": {},
   "source": [
    "# Visualisation Of Clusters"
   ]
  },
  {
   "cell_type": "code",
   "execution_count": 21,
   "id": "8f14def9",
   "metadata": {},
   "outputs": [
    {
     "name": "stderr",
     "output_type": "stream",
     "text": [
      "C:\\users\\hp\\appdata\\local\\programs\\python\\python39\\lib\\site-packages\\sklearn\\utils\\validation.py:727: FutureWarning: np.matrix usage is deprecated in 1.0 and will raise a TypeError in 1.2. Please convert to a numpy array with np.asarray. For more information see: https://numpy.org/doc/stable/reference/generated/numpy.matrix.html\n",
      "  warnings.warn(\n",
      "C:\\users\\hp\\appdata\\local\\programs\\python\\python39\\lib\\site-packages\\sklearn\\utils\\validation.py:727: FutureWarning: np.matrix usage is deprecated in 1.0 and will raise a TypeError in 1.2. Please convert to a numpy array with np.asarray. For more information see: https://numpy.org/doc/stable/reference/generated/numpy.matrix.html\n",
      "  warnings.warn(\n",
      "C:\\users\\hp\\appdata\\local\\programs\\python\\python39\\lib\\site-packages\\sklearn\\manifold\\_t_sne.py:800: FutureWarning: The default initialization in TSNE will change from 'random' to 'pca' in 1.2.\n",
      "  warnings.warn(\n",
      "C:\\users\\hp\\appdata\\local\\programs\\python\\python39\\lib\\site-packages\\sklearn\\manifold\\_t_sne.py:810: FutureWarning: The default learning rate in TSNE will change from 200.0 to 'auto' in 1.2.\n",
      "  warnings.warn(\n"
     ]
    },
    {
     "data": {
      "image/png": "[encoded data removed]",
      "text/plain": [
       "<Figure size 1008x432 with 2 Axes>"
      ]
     },
     "metadata": {
      "needs_background": "light"
     },
     "output_type": "display_data"
    }
   ],
   "source": [
    "# plot the output\n",
    "# PCA is better at capturing global structure of the data\n",
    "# TSNE is better at capturing relations between neighbors\n",
    "# sample from 48 documents and perform a PCA 24 dimension reduction on the data\n",
    "# next we show a scatterplot further sampling the sample down to 10 pts\n",
    "import warnings\n",
    "def plot_tsne_pca(data, labels):\n",
    "    max_label = max(labels)\n",
    "    max_items = np.random.choice(range(data.shape[0]), size=48, replace=False)\n",
    "    \n",
    "    pca = PCA(n_components=2).fit_transform(data[max_items,:].todense())\n",
    "    tsne = TSNE().fit_transform(PCA(n_components=5).fit_transform(data[max_items,:].todense()))\n",
    "    \n",
    "    \n",
    "    idx = np.random.choice(range(pca.shape[0]), size=24, replace=False)\n",
    "    label_subset = labels[max_items]\n",
    "    label_subset = [cm.hsv(i/max_label) for i in label_subset[idx]]\n",
    "    \n",
    "    f, ax = plt.subplots(1, 2, figsize=(14, 6))\n",
    "    \n",
    "    ax[0].scatter(pca[idx, 0], pca[idx, 1], c=label_subset)\n",
    "    ax[0].set_title('PCA Cluster Plot')\n",
    "    \n",
    "    ax[1].scatter(tsne[idx, 0], tsne[idx, 1], c=label_subset)\n",
    "    ax[1].set_title('TSNE Cluster Plot')\n",
    "\n",
    "\n",
    "plot_tsne_pca(text, clusters)"
   ]
  }
 ],
 "metadata": {
  "kernelspec": {
   "display_name": "Python 3 (ipykernel)",
   "language": "python",
   "name": "python3"
  },
  "language_info": {
   "codemirror_mode": {
    "name": "ipython",
    "version": 3
   },
   "file_extension": ".py",
   "mimetype": "text/x-python",
   "name": "python",
   "nbconvert_exporter": "python",
   "pygments_lexer": "ipython3",
   "version": "3.9.6"
  }
 },
 "nbformat": 4,
 "nbformat_minor": 5
}
